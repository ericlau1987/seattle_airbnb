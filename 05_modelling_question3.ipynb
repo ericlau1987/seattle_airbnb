{
 "cells": [
  {
   "cell_type": "code",
   "execution_count": null,
   "metadata": {},
   "outputs": [],
   "source": [
    "%run package_import.ipynb"
   ]
  },
  {
   "cell_type": "code",
   "execution_count": null,
   "metadata": {},
   "outputs": [],
   "source": [
    "df_listings = pd.read_sql_query(\n",
    "\n",
    "'''\n",
    "select \n",
    "    name,     \n",
    "    neighbourhood_cleansed,\n",
    "    property_type,  \n",
    "    room_type,  \n",
    "    accommodates,\n",
    "    bathrooms,  \n",
    "    beds,\n",
    "    bed_type,\n",
    "    amenities,  \n",
    "    cleaning_fee, \n",
    "    b.month,\n",
    "    b.avg_price,\n",
    "    b.min_price,\n",
    "    b.max_price\n",
    "from raw_listings a\n",
    "inner join (\n",
    "    select  listing_id,  \n",
    "        month(date) as month,\n",
    "        avg(price) as avg_price,  \n",
    "        min(price) as min_price,  \n",
    "        max(price) as max_price\n",
    "    from raw_calendar \n",
    "    where price is not null \n",
    "        or price != 0\n",
    "    group by listing_id, month(date)\n",
    "    ) b\n",
    "on a.id = b.listing_id\n",
    "'''\n",
    ",sqlEngine)"
   ]
  },
  {
   "cell_type": "code",
   "execution_count": null,
   "metadata": {},
   "outputs": [],
   "source": [
    "# read listing\n",
    "df_listings = pd.read_sql_query(\n",
    "\n",
    "'''\n",
    "select \n",
    "    id,\n",
    "    name,     \n",
    "    neighbourhood_cleansed,\n",
    "    property_type,  \n",
    "    room_type,  \n",
    "    accommodates,\n",
    "    bathrooms,  \n",
    "    beds,\n",
    "    bed_type,\n",
    "    amenities,  \n",
    "    cleaning_fee\n",
    "from raw_listings a\n",
    "'''\n",
    ",sqlEngine)\n",
    "\n",
    "#read calendar\n",
    "df_calendar = pd.read_sql_query(\n",
    "\n",
    "'''\n",
    "select *,  \n",
    "    month(date) as month\n",
    "from raw_calendar \n",
    "where price != 0\n",
    "'''\n",
    ",sqlEngine)\n",
    "\n",
    "df_calendar_month = df_calendar.groupby(\n",
    "    ['listing_id', 'month'],\n",
    "    as_index=False\n",
    ").agg(\n",
    "    median_price=pd.NamedAgg(column=\"price\", aggfunc=\"median\"),\n",
    "    avg_price=pd.NamedAgg(column=\"price\", aggfunc=\"mean\"),  \n",
    "    min_price=pd.NamedAgg(column=\"price\", aggfunc=\"min\"),  \n",
    "    max_price=pd.NamedAgg(column=\"price\", aggfunc=\"max\")\n",
    ")\n",
    "\n",
    "df_listings = df_listings.merge(\n",
    "    df_calendar_month,  \n",
    "    left_on='id',  \n",
    "    right_on='listing_id',\n",
    "    how='inner'\n",
    ")"
   ]
  },
  {
   "cell_type": "code",
   "execution_count": null,
   "metadata": {},
   "outputs": [],
   "source": [
    "def convert_amenities_to_columns(df: pd.DataFrame) -> pd.DataFrame:\n",
    "    '''  \n",
    "    input:\n",
    "    df: dataframe whose amenities columns to be created\n",
    "\n",
    "    output:\n",
    "    return dataframe with amenities columns\n",
    "    \n",
    "    '''\n",
    "\n",
    "\n",
    "    # remove { and } from each row in dataframe\n",
    "    replacement = {'{': '', \n",
    "                    '}': '',\n",
    "                    '\"': '',\n",
    "                    ' ': '_',\n",
    "                    '/': '_'\n",
    "                    }\n",
    "\n",
    "    df = df.replace({'amenities':replacement}, regex=True)\n",
    "    # lower case\n",
    "    df['amenities'] = df['amenities'].str.lower()\n",
    "    # convert amenities to a list\n",
    "    amenities_list = pd.unique(df['amenities'])\n",
    "\n",
    "    # read unique items in amenities\n",
    "    amenities_column = []\n",
    "    for amenity in amenities_list:\n",
    "        for item in amenity.split(','):\n",
    "            # if item is blank and is not in the amenities_column\n",
    "            # then append it\n",
    "            # otherwise skip it\n",
    "            if item != '' and item not in amenities_column:\n",
    "                amenities_column.append(item) \n",
    "\n",
    "    # if the column name exist in the column \"amenities\"\n",
    "    # flag 1; otherwise flag 0\n",
    "    for col in amenities_column:\n",
    "        df[col] = df['amenities'].apply(\n",
    "            lambda x: 1 if col in x else 0\n",
    "        )\n",
    "\n",
    "    return df"
   ]
  },
  {
   "cell_type": "code",
   "execution_count": null,
   "metadata": {},
   "outputs": [],
   "source": [
    "df_listings = convert_amenities_to_columns(df_listings)"
   ]
  },
  {
   "cell_type": "code",
   "execution_count": null,
   "metadata": {},
   "outputs": [],
   "source": [
    "df_listings['median_price'].hist()"
   ]
  },
  {
   "cell_type": "code",
   "execution_count": null,
   "metadata": {},
   "outputs": [],
   "source": [
    "df_listings.sort_values(by='median_price', ascending=False).head()"
   ]
  },
  {
   "cell_type": "code",
   "execution_count": null,
   "metadata": {},
   "outputs": [],
   "source": [
    "df_listings.groupby(['neighbourhood_cleansed','month'], as_index=False).agg(\n",
    "    median_price=pd.NamedAgg(column='median_price', aggfunc='median'),\n",
    "    avg_price=pd.NamedAgg(column='avg_price', aggfunc='mean')\n",
    ").sort_values(by='median_price', ascending=False)"
   ]
  },
  {
   "cell_type": "code",
   "execution_count": null,
   "metadata": {},
   "outputs": [],
   "source": [
    "# need to convert amenities to columns\n",
    "# need to classify price into bin and then do analysis"
   ]
  }
 ],
 "metadata": {
  "interpreter": {
   "hash": "c2f5f82d068561f0d5b9498f5ca4fdb78a7e5eb3b9d4bc6a68f47c814fd6e453"
  },
  "kernelspec": {
   "display_name": "Python 3.9.4 64-bit ('3.9.4': pyenv)",
   "language": "python",
   "name": "python3"
  },
  "language_info": {
   "codemirror_mode": {
    "name": "ipython",
    "version": 3
   },
   "file_extension": ".py",
   "mimetype": "text/x-python",
   "name": "python",
   "nbconvert_exporter": "python",
   "pygments_lexer": "ipython3",
   "version": "3.9.4"
  },
  "orig_nbformat": 4
 },
 "nbformat": 4,
 "nbformat_minor": 2
}
