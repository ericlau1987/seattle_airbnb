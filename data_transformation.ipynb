{
 "cells": [
  {
   "cell_type": "code",
   "execution_count": null,
   "metadata": {},
   "outputs": [],
   "source": [
    "# def extract_csv(file):\n",
    "    \n",
    "#     return pd.read_csv(file)"
   ]
  },
  {
   "cell_type": "code",
   "execution_count": 5,
   "metadata": {},
   "outputs": [],
   "source": [
    "def transform_prices_column(dataframe,column):\n",
    "    \n",
    "    try:\n",
    "#         dataframe[column] = dataframe[column].apply(lambda x: re.sub('[^0-9.]+', '', x))\n",
    "#         dataframe[column] = dataframe[column].apply(lambda x: re.sub('[^0-9.]+', '', x))\n",
    "        dataframe[column] = dataframe[column].str.replace(\"$\", \"\").str.replace(\",\", \"\")\n",
    "        dataframe[column]= pd.to_numeric(dataframe[column])\n",
    "            \n",
    "    except:\n",
    "        pass\n",
    "    \n",
    "    return dataframe[column]"
   ]
  },
  {
   "cell_type": "code",
   "execution_count": 8,
   "metadata": {},
   "outputs": [],
   "source": [
    "# def load_data_to_sql(dataframe,table_name = None):\n",
    "    \n",
    "#     if table_name is None:\n",
    "#         print('A table name should provided!')\n",
    "        \n",
    "#     else:\n",
    "    \n",
    "#         # TODO: connect to the worldbank.db database using the sqlite3 library\n",
    "#         conn = sqlite3.connect('seattle_airbnb.db')\n",
    "\n",
    "#         # TODO: create a cursor object\n",
    "#         cur = conn.cursor()\n",
    "\n",
    "#         dataframe.to_sql(table_name, conn, if_exists='replace', index=False)\n",
    "\n",
    "#         # commit changes and close the connection\n",
    "#         conn.commit()\n",
    "#         conn.close()\n",
    "\n",
    "#         return None"
   ]
  },
  {
   "cell_type": "code",
   "execution_count": 4,
   "metadata": {},
   "outputs": [],
   "source": [
    "# def read_sql_2_df(sql_string = None):\n",
    "    \n",
    "#     if not sql_string:\n",
    "#         print('no sql scripts are provided')\n",
    "              \n",
    "#     else:\n",
    "#         # connect to the database\n",
    "#         # the database file will be worldbank.db\n",
    "#         # note that sqlite3 will create this database file if it does not exist already\n",
    "#         conn = sqlite3.connect('seattle_airbnb.db')\n",
    "        \n",
    "#         df = pd.read_sql(sql_string, con=conn)\n",
    "        \n",
    "#         conn.commit()\n",
    "#         conn.close()\n",
    "        \n",
    "#         return df"
   ]
  }
 ],
 "metadata": {
  "kernelspec": {
   "display_name": "Python 3",
   "language": "python",
   "name": "python3"
  },
  "language_info": {
   "codemirror_mode": {
    "name": "ipython",
    "version": 3
   },
   "file_extension": ".py",
   "mimetype": "text/x-python",
   "name": "python",
   "nbconvert_exporter": "python",
   "pygments_lexer": "ipython3",
   "version": "3.7.3"
  }
 },
 "nbformat": 4,
 "nbformat_minor": 2
}
