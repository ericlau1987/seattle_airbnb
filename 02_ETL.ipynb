{
 "cells": [
  {
   "cell_type": "code",
   "execution_count": 2,
   "metadata": {},
   "outputs": [],
   "source": [
    "%run package_import.ipynb\n",
    "%run data_profiling.ipynb\n",
    "%run data_transformation.ipynb\n"
   ]
  },
  {
   "cell_type": "code",
   "execution_count": 3,
   "metadata": {},
   "outputs": [],
   "source": [
    "import os\n",
    "os.chdir(path='/Users/liuyifu/Project_data')"
   ]
  },
  {
   "cell_type": "code",
   "execution_count": 4,
   "metadata": {},
   "outputs": [],
   "source": [
    "from sqlalchemy import create_engine\n",
    "import pymysql\n",
    "\n",
    "sqlEngine       = create_engine('mysql+pymysql://root:@127.0.0.1/seattle_airbnb', pool_recycle=3600)\n",
    "dbConnection    = sqlEngine.connect()\n"
   ]
  },
  {
   "cell_type": "markdown",
   "metadata": {},
   "source": [
    "## ELT on calendar csv"
   ]
  },
  {
   "cell_type": "code",
   "execution_count": 5,
   "metadata": {},
   "outputs": [],
   "source": [
    "def transform_calendar_data(dataframe):\n",
    "    \n",
    "    #convert string into numeric values\n",
    "    dataframe['price'] = transform_prices_column(dataframe,'price')\n",
    "    #drop null value in the column \"price\"\n",
    "    dataframe.dropna(subset=['price'],inplace=True)\n",
    "    #d\n",
    "    dataframe['date'] = pd.to_datetime(dataframe['date'])\n",
    "    \n",
    "    return dataframe   "
   ]
  },
  {
   "cell_type": "code",
   "execution_count": 7,
   "metadata": {},
   "outputs": [
    {
     "name": "stderr",
     "output_type": "stream",
     "text": [
      "/var/folders/ll/01gdbc2n2d1f47wbbx616f4r0000gn/T/ipykernel_93802/1151561823.py:6: FutureWarning: The default value of regex will change from True to False in a future version. In addition, single character regular expressions will *not* be treated as literal strings when regex=True.\n",
      "  dataframe[column] = dataframe[column].str.replace(\"$\", \"\").str.replace(\",\", \"\")\n"
     ]
    }
   ],
   "source": [
    "df_calendar = pd.read_csv('Seattle_Airbnb/calendar.csv')\n",
    "df_calendar = transform_calendar_data(df_calendar)\n",
    "df_calendar.to_sql('raw_calendar', dbConnection, if_exists='replace', index=False)"
   ]
  },
  {
   "cell_type": "markdown",
   "metadata": {},
   "source": [
    "## ELT on Listings csv"
   ]
  },
  {
   "cell_type": "code",
   "execution_count": 10,
   "metadata": {},
   "outputs": [],
   "source": [
    "def transform_reviews_data(dataframe):\n",
    "    \n",
    "    # The majority of the columns below are null values and so they are removed\n",
    "    dataframe.drop(columns=['license', 'experiences_offered', 'square_feet'],inplace=True)\n",
    "    \n",
    "    # As the following columns are relevant to price including '$' and ',' , these charaters need to be deleted.\n",
    "    # After '$' and ',' are deleted, convert the string into float 64\n",
    "    price_colums = ['price', 'weekly_price', 'monthly_price', 'security_deposit', 'cleaning_fee', 'extra_people']\n",
    "    \n",
    "    for column in price_colums:\n",
    "        \n",
    "         # As the following columns are relevant to price including '$' and ',' , these charaters need to be deleted.\n",
    "         # After '$' and ',' are deleted, convert the string into float 64\n",
    "         # The formula can be found in the data_transformation.ipynb\n",
    "        dataframe[column] =  transform_prices_column(dataframe, column)\n",
    "        # for the relevant pric columns listed, fill zero for those rows with NaN\n",
    "        dataframe[column] = dataframe[column].fillna(0)\n",
    "        \n",
    "    # Define columns relevant to rates with %\n",
    "    rate_columns = ['host_response_rate', 'host_acceptance_rate']\n",
    "    \n",
    "    #As % is included in the rate columns, their data types are string. \n",
    "    # Before converting them to numeric, '%' need to be deleted, convert the figure as numeric and then use it to divided by 100\n",
    "    for column in rate_columns:\n",
    "        \n",
    "        # In these columns, skip rows with NaN. \n",
    "        # For the rows which are not empty, perform the following exercise to convert the string to numeric\n",
    "        # 1. replace \"#\" with ''\n",
    "        # 2. convert the figure to numeric\n",
    "        # 3. use the numeric values to be divided by 100 to get the rate which is less than or equal to 1. \n",
    "        # For example, 100% is converted to 1; 68% is converted to 0.68. \n",
    "        dataframe[column] = dataframe[column].apply(lambda x: pd.to_numeric(x.replace('%',''))/100 if pd.notna(x) else np.nan)\n",
    "\n",
    "    \n",
    "    return dataframe"
   ]
  },
  {
   "cell_type": "code",
   "execution_count": 17,
   "metadata": {},
   "outputs": [
    {
     "name": "stderr",
     "output_type": "stream",
     "text": [
      "/var/folders/ll/01gdbc2n2d1f47wbbx616f4r0000gn/T/ipykernel_93802/1151561823.py:6: FutureWarning: The default value of regex will change from True to False in a future version. In addition, single character regular expressions will *not* be treated as literal strings when regex=True.\n",
      "  dataframe[column] = dataframe[column].str.replace(\"$\", \"\").str.replace(\",\", \"\")\n"
     ]
    }
   ],
   "source": [
    "df_listings = pd.read_csv('Seattle_Airbnb/listings.csv')\n",
    "df_listings =  transform_reviews_data(df_listings)\n",
    "df_listings.to_sql('raw_listings', dbConnection, if_exists='replace', index=False)"
   ]
  },
  {
   "cell_type": "markdown",
   "metadata": {},
   "source": [
    "### ETL on Reviews csv"
   ]
  },
  {
   "cell_type": "code",
   "execution_count": 8,
   "metadata": {},
   "outputs": [],
   "source": [
    "df_reviews = pd.read_csv('Seattle_Airbnb/reviews.csv')\n",
    "df_reviews['date'] = pd.to_datetime(df_reviews['date'])\n",
    "df_reviews.to_sql('raw_reviews', dbConnection, if_exists='replace', index=False)"
   ]
  },
  {
   "cell_type": "code",
   "execution_count": 7,
   "metadata": {},
   "outputs": [
    {
     "data": {
      "text/html": [
       "<div>\n",
       "<style scoped>\n",
       "    .dataframe tbody tr th:only-of-type {\n",
       "        vertical-align: middle;\n",
       "    }\n",
       "\n",
       "    .dataframe tbody tr th {\n",
       "        vertical-align: top;\n",
       "    }\n",
       "\n",
       "    .dataframe thead th {\n",
       "        text-align: right;\n",
       "    }\n",
       "</style>\n",
       "<table border=\"1\" class=\"dataframe\">\n",
       "  <thead>\n",
       "    <tr style=\"text-align: right;\">\n",
       "      <th></th>\n",
       "      <th>listing_id</th>\n",
       "      <th>id</th>\n",
       "      <th>date</th>\n",
       "      <th>reviewer_id</th>\n",
       "      <th>reviewer_name</th>\n",
       "      <th>comments</th>\n",
       "    </tr>\n",
       "  </thead>\n",
       "  <tbody>\n",
       "    <tr>\n",
       "      <th>0</th>\n",
       "      <td>7202016</td>\n",
       "      <td>38917982</td>\n",
       "      <td>2015-07-19</td>\n",
       "      <td>28943674</td>\n",
       "      <td>Bianca</td>\n",
       "      <td>Cute and cozy place. Perfect location to everything!</td>\n",
       "    </tr>\n",
       "    <tr>\n",
       "      <th>1</th>\n",
       "      <td>7202016</td>\n",
       "      <td>39087409</td>\n",
       "      <td>2015-07-20</td>\n",
       "      <td>32440555</td>\n",
       "      <td>Frank</td>\n",
       "      <td>Kelly has a great room in a very central location. \\r\\nBeautiful building , architecture and a s...</td>\n",
       "    </tr>\n",
       "    <tr>\n",
       "      <th>2</th>\n",
       "      <td>7202016</td>\n",
       "      <td>39820030</td>\n",
       "      <td>2015-07-26</td>\n",
       "      <td>37722850</td>\n",
       "      <td>Ian</td>\n",
       "      <td>Very spacious apartment, and in a great neighborhood.  This is the kind of apartment I wish I ha...</td>\n",
       "    </tr>\n",
       "    <tr>\n",
       "      <th>3</th>\n",
       "      <td>7202016</td>\n",
       "      <td>40813543</td>\n",
       "      <td>2015-08-02</td>\n",
       "      <td>33671805</td>\n",
       "      <td>George</td>\n",
       "      <td>Close to Seattle Center and all it has to offer - ballet, theater, museum, Space Needle, restaur...</td>\n",
       "    </tr>\n",
       "    <tr>\n",
       "      <th>4</th>\n",
       "      <td>7202016</td>\n",
       "      <td>41986501</td>\n",
       "      <td>2015-08-10</td>\n",
       "      <td>34959538</td>\n",
       "      <td>Ming</td>\n",
       "      <td>Kelly was a great host and very accommodating in a great neighborhood. She has some great coffee...</td>\n",
       "    </tr>\n",
       "  </tbody>\n",
       "</table>\n",
       "</div>"
      ],
      "text/plain": [
       "   listing_id        id        date  reviewer_id reviewer_name  \\\n",
       "0     7202016  38917982  2015-07-19     28943674        Bianca   \n",
       "1     7202016  39087409  2015-07-20     32440555         Frank   \n",
       "2     7202016  39820030  2015-07-26     37722850           Ian   \n",
       "3     7202016  40813543  2015-08-02     33671805        George   \n",
       "4     7202016  41986501  2015-08-10     34959538          Ming   \n",
       "\n",
       "                                                                                              comments  \n",
       "0                                                Cute and cozy place. Perfect location to everything!   \n",
       "1  Kelly has a great room in a very central location. \\r\\nBeautiful building , architecture and a s...  \n",
       "2  Very spacious apartment, and in a great neighborhood.  This is the kind of apartment I wish I ha...  \n",
       "3  Close to Seattle Center and all it has to offer - ballet, theater, museum, Space Needle, restaur...  \n",
       "4  Kelly was a great host and very accommodating in a great neighborhood. She has some great coffee...  "
      ]
     },
     "execution_count": 7,
     "metadata": {},
     "output_type": "execute_result"
    }
   ],
   "source": [
    "df_reviews.head()"
   ]
  }
 ],
 "metadata": {
  "kernelspec": {
   "display_name": "Python 3",
   "language": "python",
   "name": "python3"
  },
  "language_info": {
   "codemirror_mode": {
    "name": "ipython",
    "version": 3
   },
   "file_extension": ".py",
   "mimetype": "text/x-python",
   "name": "python",
   "nbconvert_exporter": "python",
   "pygments_lexer": "ipython3",
   "version": "3.9.4"
  }
 },
 "nbformat": 4,
 "nbformat_minor": 2
}
